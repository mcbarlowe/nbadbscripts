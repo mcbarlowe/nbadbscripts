{
 "cells": [
  {
   "cell_type": "code",
   "execution_count": 3,
   "metadata": {},
   "outputs": [],
   "source": [
    "import pandas as pd\n",
    "import nba_scraper.nba_scraper as ns\n",
    "import os\n",
    "import requests\n",
    "from sqlalchemy import create_engine\n",
    "import numpy as np\n",
    "pd.set_option('display.max_columns', 500)\n",
    "pd.set_option('display.max_rows', 500)\n",
    "#engine = create_engine(os.environ['NBA_CONNECT_DEV'])\n"
   ]
  },
  {
   "cell_type": "code",
   "execution_count": 36,
   "metadata": {},
   "outputs": [],
   "source": [
    "#TODO recalculate possesions for all teams\n",
    "def calc_possessions(game_df):\n",
    "    '''\n",
    "    funciton to calculate possesion numbers for both team and players\n",
    "    and insert into possesion tables\n",
    "\n",
    "    Inputs:\n",
    "    game_df  - dataframe of nba play by play\n",
    "    engine   - sql alchemy engine\n",
    "\n",
    "    Outputs:\n",
    "    None\n",
    "    '''\n",
    "    #calculating made shot possessions\n",
    "    game_df['home_possession'] = np.where((game_df.event_team == game_df.home_team_abbrev) &\n",
    "                                         (game_df.event_type_de == 'shot'), \n",
    "                                          np.where((game_df.event_type_de.shift(-1) == 'foul') &\n",
    "                                                   (game_df.visitordescription.shift(-1).str.contains('S.FOUL'))\n",
    "                                                   , 0, 1)\n",
    "                                          , 0)\n",
    "#calculating turnover possessions\n",
    "    game_df['home_possession'] = np.where((game_df.event_team == game_df.home_team_abbrev) &\n",
    "                                         (game_df.event_type_de == 'turnover'), 1, game_df['home_possession'])\n",
    "#calculating defensive rebound possessions\n",
    "    game_df['home_possession'] = np.where(((game_df.event_team == game_df.away_team_abbrev) &\n",
    "                                         (game_df.is_d_rebound == 1)) |\n",
    "                                          ((game_df.event_type_de == 'rebound') &\n",
    "                                           (game_df.is_d_rebound == 0) &\n",
    "                                           (game_df.is_o_rebound == 0) &\n",
    "                                           (game_df.event_team == game_df.away_team_abbrev) &\n",
    "                                           (game_df.event_type_de.shift(1) != 'free-throw')),\n",
    "                                          1, game_df['home_possession'])\n",
    "#calculating final free throw possessions\n",
    "    game_df['home_possession'] = np.where((game_df.event_team == game_df.home_team_abbrev) &\n",
    "                                         ((game_df.homedescription.str.contains('Free Throw 2 of 2')) |\n",
    "                                           (game_df.homedescription.str.contains('Free Throw 3 of 3')) |\n",
    "                                           (game_df.homedescription.str.contains('Free Throw 1 of 1'))),\n",
    "                                         1, game_df['home_possession'])\n",
    "#calculating made shot possessions\n",
    "    game_df['away_possession'] = np.where((game_df.event_team == game_df.away_team_abbrev) &\n",
    "                                         (game_df.event_type_de == 'shot'), \n",
    "                                           np.where(game_df.event_type_de.shift(-1) == 'foul' &\n",
    "                                                    (game_df.homedescription.shift(-1).str.contains('S.FOUL'))\n",
    "                                                    , 0, 1), \n",
    "                                          0)\n",
    "#calculating turnover possessions\n",
    "    game_df['away_possession'] = np.where((game_df.event_team == game_df.away_team_abbrev) &\n",
    "                                         (game_df.event_type_de == 'turnover'), 1, game_df['away_possession'])\n",
    "#calculating defensive rebound possessions\n",
    "    game_df['away_possession'] = np.where(((game_df.event_team == game_df.home_team_abbrev) &\n",
    "                                         (game_df.is_d_rebound == 1)) |\n",
    "                                          ((game_df.event_type_de == 'rebound') &\n",
    "                                           (game_df.is_d_rebound == 0) &\n",
    "                                           (game_df.is_o_rebound == 0) &\n",
    "                                           (game_df.event_team == game_df.home_team_abbrev) &\n",
    "                                           (game_df.event_type_de.shift(1) != 'free-throw')),\n",
    "                                          1, game_df['away_possession'])\n",
    "#calculating final free throw possessions\n",
    "    game_df['away_possession'] = np.where((game_df.event_team == game_df.away_team_abbrev) &\n",
    "                                         ((game_df.visitordescription.str.contains('Free Throw 2 of 2')) |\n",
    "                                           (game_df.visitordescription.str.contains('Free Throw 3 of 3')) |\n",
    "                                           (game_df.visitordescription.str.contains('Free Throw 1 of 1'))),\n",
    "                                         1, game_df['away_possession'])\n",
    "    return game_df\n"
   ]
  },
  {
   "cell_type": "code",
   "execution_count": 37,
   "metadata": {},
   "outputs": [],
   "source": [
    "pbp_df = pd.read_csv('/Users/MattBarlowe/Downloads/2019_pbp.csv')\\\n",
    "    .sort_values(by=['game_id', 'seconds_elapsed', 'eventnum'])\n",
    "pbp_df['is_d_rebound'] = np.where(pbp_df['is_d_rebound'] == 't', 1, 0)\n",
    "pbp_df['is_o_rebound'] = np.where(pbp_df['is_o_rebound'] == 't', 1, 0)\n",
    "pbp_df['is_turnover'] = np.where(pbp_df['is_turnover'] == 't', 1, 0)\n",
    "pbp_df['is_steal']  = np.where(pbp_df['is_steal'] == 't', 1, 0)                         \n",
    "pbp_df['is_putback']  = np.where(pbp_df['is_putback'] == 't', 1, 0)\n",
    "pbp_df['is_block'] = np.where(pbp_df['is_block'] == 't', 1, 0)\n",
    "pbp_df['is_three']  = np.where(pbp_df['is_three'] == 't', 1, 0)\n",
    "pbp_df['shot_made'] = np.where(pbp_df['shot_made'] == 't', 1, 0)\n",
    "\n",
    "\n",
    "points_by_second = pbp_df.groupby(['game_id', 'seconds_elapsed'])['points_made'].sum().reset_index()"
   ]
  },
  {
   "cell_type": "code",
   "execution_count": 38,
   "metadata": {},
   "outputs": [],
   "source": [
    "pbp_df = calc_possessions(pbp_df)\n",
    "game_one = pbp_df[pbp_df.game_id == 21800001].reset_index()"
   ]
  },
  {
   "cell_type": "code",
   "execution_count": 39,
   "metadata": {},
   "outputs": [],
   "source": [
    "poss_index = game_one[(game_one.home_possession == 1) | (game_one.away_possession == 1)].index\n",
    "shift_dfs = []\n",
    "past_index = 0\n",
    "for i in poss_index:\n",
    "    shift_dfs.append(game_one.iloc[past_index+1: i+1, :].reset_index())\n",
    "    past_index = i"
   ]
  },
  {
   "cell_type": "code",
   "execution_count": 40,
   "metadata": {},
   "outputs": [],
   "source": [
    "possession = [x.merge(points_by_second, on=['game_id', 'seconds_elapsed']) for x in shift_dfs]"
   ]
  },
  {
   "cell_type": "code",
   "execution_count": 44,
   "metadata": {},
   "outputs": [
    {
     "data": {
      "text/html": [
       "<div>\n",
       "<style scoped>\n",
       "    .dataframe tbody tr th:only-of-type {\n",
       "        vertical-align: middle;\n",
       "    }\n",
       "\n",
       "    .dataframe tbody tr th {\n",
       "        vertical-align: top;\n",
       "    }\n",
       "\n",
       "    .dataframe thead th {\n",
       "        text-align: right;\n",
       "    }\n",
       "</style>\n",
       "<table border=\"1\" class=\"dataframe\">\n",
       "  <thead>\n",
       "    <tr style=\"text-align: right;\">\n",
       "      <th></th>\n",
       "      <th>pctimestring</th>\n",
       "      <th>seconds_elapsed</th>\n",
       "      <th>period</th>\n",
       "      <th>homedescription</th>\n",
       "      <th>visitordescription</th>\n",
       "      <th>points_made_y</th>\n",
       "      <th>home_possession</th>\n",
       "      <th>away_possession</th>\n",
       "      <th>event_type_de</th>\n",
       "      <th>event_team</th>\n",
       "      <th>is_d_rebound</th>\n",
       "      <th>is_o_rebound</th>\n",
       "    </tr>\n",
       "  </thead>\n",
       "  <tbody>\n",
       "    <tr>\n",
       "      <td>0</td>\n",
       "      <td>5:59</td>\n",
       "      <td>361</td>\n",
       "      <td>1</td>\n",
       "      <td>NaN</td>\n",
       "      <td>Simmons OFF.Foul (P1) (S.Foster)</td>\n",
       "      <td>0</td>\n",
       "      <td>0</td>\n",
       "      <td>0</td>\n",
       "      <td>foul</td>\n",
       "      <td>PHI</td>\n",
       "      <td>0</td>\n",
       "      <td>0</td>\n",
       "    </tr>\n",
       "    <tr>\n",
       "      <td>1</td>\n",
       "      <td>5:59</td>\n",
       "      <td>361</td>\n",
       "      <td>1</td>\n",
       "      <td>NaN</td>\n",
       "      <td>Simmons Offensive Foul Turnover (P2.T4)</td>\n",
       "      <td>0</td>\n",
       "      <td>0</td>\n",
       "      <td>1</td>\n",
       "      <td>turnover</td>\n",
       "      <td>PHI</td>\n",
       "      <td>0</td>\n",
       "      <td>0</td>\n",
       "    </tr>\n",
       "  </tbody>\n",
       "</table>\n",
       "</div>"
      ],
      "text/plain": [
       "  pctimestring  seconds_elapsed  period homedescription  \\\n",
       "0         5:59              361       1             NaN   \n",
       "1         5:59              361       1             NaN   \n",
       "\n",
       "                        visitordescription  points_made_y  home_possession  \\\n",
       "0         Simmons OFF.Foul (P1) (S.Foster)              0                0   \n",
       "1  Simmons Offensive Foul Turnover (P2.T4)              0                0   \n",
       "\n",
       "   away_possession event_type_de event_team  is_d_rebound  is_o_rebound  \n",
       "0                0          foul        PHI             0             0  \n",
       "1                1      turnover        PHI             0             0  "
      ]
     },
     "execution_count": 44,
     "metadata": {},
     "output_type": "execute_result"
    }
   ],
   "source": [
    "possession[28][['pctimestring', 'seconds_elapsed','period','homedescription', 'visitordescription', 'points_made_y',\n",
    "                'home_possession', 'away_possession', 'event_type_de', 'event_team', 'is_d_rebound', 'is_o_rebound']]"
   ]
  },
  {
   "cell_type": "code",
   "execution_count": null,
   "metadata": {},
   "outputs": [],
   "source": [
    "seasons = [2018]\n",
    "for season in seasons:\n",
    "    for game in range(int(f'2{str(season)[2:]}00001'), int(f'2{str(season)[2:]}01231')):\n",
    "        print(f'extracting shifts for game: {game}')\n",
    "        pbp_df = pd.read_sql_query(f'select * from nba.pbp where game_id = {game};', engine).sort_values(by=['seconds_elapsed', 'eventnum']).reset_index()\n",
    "        pbp_df = calc_possessions(pbp_df)\n",
    "        '''\n",
    "        #this is done to assign proper points to players who may be subbed of during free throw shots\n",
    "        points_by_second = pbp_df.groupby('seconds_elapsed')['points_made'].sum().reset_index()\n",
    "\n",
    "\n",
    "        #seperate each shift into a list of dataframes where a shift is anything that happens \n",
    "        #between subs\n",
    "        shift_dfs = []\n",
    "        past_index = 0\n",
    "        for i in pbp_df[pbp_df.event_type_de == 'substitution'].index:\n",
    "            shift_dfs.append(pbp_df.iloc[past_index: i, :])\n",
    "            past_index = i\n",
    "\n",
    "        #removing any shift where a possesion doesn't happen \n",
    "        shift_dfs = [df for df in shift_dfs if df.home_possession.sum() + df.away_possession.sum() != 0]\n",
    "\n",
    "        calc_shifts = []\n",
    "\n",
    "        for i in range(len(shift_dfs)):\n",
    "            test_df = shift_dfs[i]\n",
    "            test_df = test_df.merge(points_by_second, on='seconds_elapsed', how='left')\n",
    "            test_df = test_df[test_df.event_type_de != 'free-throw']\n",
    "            #TODO add in logic checks to take care of and 1 situations\n",
    "            test_df['points_made'] = np.where(test_df.event_type_de == 'foul', \n",
    "                                              np.where((test_df.event_type_de.shift(1) == 'shot') &\n",
    "                                                       (test_df.seconds_elapsed == test_df.seconds_elapsed.shift(1)) &\n",
    "                                                       ((test_df.homedescription.str.contains('S.FOUL')) |\n",
    "                                                        (test_df.visitordescription.str.contains('S.FOUL'))), \n",
    "                                                       test_df.points_made_y-test_df.points_made_x.shift(1),\n",
    "                                                       test_df.points_made_y),\n",
    "                                              test_df.points_made_x)\n",
    "            #compiling shift into summed points and possessions for each team in the shift\n",
    "            groupby_columns = ['game_id', 'game_date', 'home_team_id', 'away_team_id',\n",
    "                               'home_player_1', 'home_player_1_id', 'home_player_2',\n",
    "                               'home_player_2_id', 'home_player_3', 'home_player_3_id',\n",
    "                               'home_player_4', 'home_player_4_id', 'home_player_5',\n",
    "                               'home_player_5_id', 'away_player_1', 'away_player_1_id',\n",
    "                               'away_player_2', 'away_player_2_id', 'away_player_3',\n",
    "                               'away_player_3_id', 'away_player_4', 'away_player_4_id',\n",
    "                               'away_player_5', 'away_player_5_id']\n",
    "            home_rename_dict = {'home_player_1': 'off_player_1', 'home_player_1_id': 'off_player_1_id', \n",
    "                               'home_player_2': 'off_player_2', 'home_player_2_id': 'off_player_2_id',\n",
    "                               'home_player_3': 'off_player_3', 'home_player_3_id': 'off_player_3_id',\n",
    "                               'home_player_4': 'off_player_4', 'home_player_4_id': 'off_player_4_id',\n",
    "                               'home_player_5': 'off_player_5', 'home_player_5_id': 'off_player_5_id',\n",
    "                               'away_player_1': 'def_player_1', 'away_player_1_id': 'def_player_1_id', \n",
    "                               'away_player_2': 'def_player_2', 'away_player_2_id': 'def_player_2_id',\n",
    "                               'away_player_3': 'def_player_3', 'away_player_3_id': 'def_player_3_id',\n",
    "                               'away_player_4': 'def_player_4', 'away_player_4_id': 'def_player_4_id',\n",
    "                               'away_player_5': 'def_player_5', 'away_player_5_id': 'def_player_5_id'}\n",
    "            away_rename_dict = {'away_player_1': 'off_player_1', 'away_player_1_id': 'off_player_1_id', \n",
    "                               'away_player_2': 'off_player_2', 'away_player_2_id': 'off_player_2_id',\n",
    "                               'away_player_3': 'off_player_3', 'away_player_3_id': 'off_player_3_id',\n",
    "                               'away_player_4': 'off_player_4', 'away_player_4_id': 'off_player_4_id',\n",
    "                               'away_player_5': 'off_player_5', 'away_player_5_id': 'off_player_5_id',\n",
    "                               'home_player_1': 'def_player_1', 'home_player_1_id': 'def_player_1_id', \n",
    "                               'home_player_2': 'def_player_2', 'home_player_2_id': 'def_player_2_id',\n",
    "                               'home_player_3': 'def_player_3', 'home_player_3_id': 'def_player_3_id',\n",
    "                               'home_player_4': 'def_player_4', 'home_player_4_id': 'def_player_4_id',\n",
    "                               'home_player_5': 'def_player_5', 'home_player_5_id': 'def_player_5_id'}\n",
    "\n",
    "            home_stats = test_df[((test_df.event_team == test_df.home_team_abbrev) & \n",
    "                                  (test_df.event_type_de != 'foul')) | \n",
    "                                 ((test_df.event_team != test_df.home_team_abbrev) &\n",
    "                                  (test_df.event_type_de == 'foul'))].groupby(groupby_columns)['points_made']\\\n",
    "                        .sum().reset_index()\n",
    "            away_stats = test_df[((test_df.event_team == test_df.away_team_abbrev) & \n",
    "                                  (test_df.event_type_de != 'foul')) | \n",
    "                                 ((test_df.event_team != test_df.away_team_abbrev) &\n",
    "                                  (test_df.event_type_de == 'foul'))].groupby(groupby_columns)['points_made']\\\n",
    "                        .sum().reset_index()\n",
    "            home_stats = home_stats.rename(columns=home_rename_dict)\n",
    "            away_stats = away_stats.rename(columns=away_rename_dict)\n",
    "            home_stats['possessions'] = shift_dfs[i][['home_possession']].sum().iloc[0]\n",
    "            away_stats['possessions'] = shift_dfs[i][['away_possession']].sum().iloc[0]\n",
    "            final_shift_df = pd.concat([home_stats, away_stats])\n",
    "            calc_shifts.append(final_shift_df)\n",
    "\n",
    "        game_shift_df = pd.concat(calc_shifts)\n",
    "        game_shift_df['points_per_100_poss'] = (game_shift_df['points_made']/game_shift_df['possessions']) * 100\n",
    "        game_shift_df.to_sql('rapm_shifts', engine, schema='nba', method='multi',\n",
    "                         if_exists='append', index=False)\n",
    "        '''"
   ]
  },
  {
   "cell_type": "code",
   "execution_count": 37,
   "metadata": {},
   "outputs": [],
   "source": [
    "pbp_df = pbp_df.merge(points_by_second, on='seconds_elapsed', how='left')\n",
    "pbp_df = pbp_df[pbp_df.event_type_de != 'free-throw']\n",
    "#TODO add in logic checks to take care of and 1 situations\n",
    "pbp_df['points_made'] = np.where(pbp_df.event_type_de == 'foul', \n",
    "                                  np.where((pbp_df.event_type_de.shift(1) == 'shot') &\n",
    "                                           (pbp_df.seconds_elapsed == pbp_df.seconds_elapsed.shift(1)) &\n",
    "                                           ((pbp_df.homedescription.str.contains('S.FOUL')) |\n",
    "                                            (pbp_df.visitordescription.str.contains('S.FOUL'))), \n",
    "                                           pbp_df.points_made_y-pbp_df.points_made_x.shift(1),\n",
    "                                           pbp_df.points_made_y),\n",
    "                                  pbp_df.points_made_x)"
   ]
  },
  {
   "cell_type": "code",
   "execution_count": 44,
   "metadata": {},
   "outputs": [
    {
     "data": {
      "text/html": [
       "<div>\n",
       "<style scoped>\n",
       "    .dataframe tbody tr th:only-of-type {\n",
       "        vertical-align: middle;\n",
       "    }\n",
       "\n",
       "    .dataframe tbody tr th {\n",
       "        vertical-align: top;\n",
       "    }\n",
       "\n",
       "    .dataframe thead th {\n",
       "        text-align: right;\n",
       "    }\n",
       "</style>\n",
       "<table border=\"1\" class=\"dataframe\">\n",
       "  <thead>\n",
       "    <tr style=\"text-align: right;\">\n",
       "      <th></th>\n",
       "      <th>away_team_id</th>\n",
       "      <th>def_player_1</th>\n",
       "      <th>def_player_1_id</th>\n",
       "      <th>def_player_2</th>\n",
       "      <th>def_player_2_id</th>\n",
       "      <th>def_player_3</th>\n",
       "      <th>def_player_3_id</th>\n",
       "      <th>def_player_4</th>\n",
       "      <th>def_player_4_id</th>\n",
       "      <th>def_player_5</th>\n",
       "      <th>def_player_5_id</th>\n",
       "      <th>game_date</th>\n",
       "      <th>game_id</th>\n",
       "      <th>home_team_id</th>\n",
       "      <th>off_player_1</th>\n",
       "      <th>off_player_1_id</th>\n",
       "      <th>off_player_2</th>\n",
       "      <th>off_player_2_id</th>\n",
       "      <th>off_player_3</th>\n",
       "      <th>off_player_3_id</th>\n",
       "      <th>off_player_4</th>\n",
       "      <th>off_player_4_id</th>\n",
       "      <th>off_player_5</th>\n",
       "      <th>off_player_5_id</th>\n",
       "      <th>points_made</th>\n",
       "      <th>possessions</th>\n",
       "      <th>points_per_100_poss</th>\n",
       "    </tr>\n",
       "  </thead>\n",
       "  <tbody>\n",
       "  </tbody>\n",
       "</table>\n",
       "</div>"
      ],
      "text/plain": [
       "Empty DataFrame\n",
       "Columns: [away_team_id, def_player_1, def_player_1_id, def_player_2, def_player_2_id, def_player_3, def_player_3_id, def_player_4, def_player_4_id, def_player_5, def_player_5_id, game_date, game_id, home_team_id, off_player_1, off_player_1_id, off_player_2, off_player_2_id, off_player_3, off_player_3_id, off_player_4, off_player_4_id, off_player_5, off_player_5_id, points_made, possessions, points_per_100_poss]\n",
       "Index: []"
      ]
     },
     "execution_count": 44,
     "metadata": {},
     "output_type": "execute_result"
    }
   ],
   "source": [
    "game_shift_df[game_shift_df.points_made < 0]"
   ]
  },
  {
   "cell_type": "code",
   "execution_count": 4,
   "metadata": {},
   "outputs": [],
   "source": [
    "s = pd.read_csv('/Users/MattBarlowe/code/python/nbadbscripts/batch_processes/shifts.csv')"
   ]
  },
  {
   "cell_type": "code",
   "execution_count": 5,
   "metadata": {},
   "outputs": [
    {
     "data": {
      "text/plain": [
       "(68051, 29)"
      ]
     },
     "execution_count": 5,
     "metadata": {},
     "output_type": "execute_result"
    }
   ],
   "source": [
    "s.shape"
   ]
  },
  {
   "cell_type": "code",
   "execution_count": 7,
   "metadata": {},
   "outputs": [],
   "source": [
    "def lambda_to_alpha(lambda_value, samples):\n",
    "    return (lambda_value * samples) / 2.0\n",
    "\n",
    "def map_players(row_in, players):\n",
    "    p1 = row_in[0]\n",
    "    p2 = row_in[1]\n",
    "    p3 = row_in[2]\n",
    "    p4 = row_in[3]\n",
    "    p5 = row_in[4]\n",
    "    p6 = row_in[5]\n",
    "    p7 = row_in[6]\n",
    "    p8 = row_in[7]\n",
    "    p9 = row_in[8]\n",
    "    p10 = row_in[9]\n",
    "\n",
    "    rowOut = np.zeros([len(players) * 2])\n",
    "\n",
    "    rowOut[players.index(p1)] = 1\n",
    "    rowOut[players.index(p2)] = 1\n",
    "    rowOut[players.index(p3)] = 1\n",
    "    rowOut[players.index(p4)] = 1\n",
    "    rowOut[players.index(p5)] = 1\n",
    "\n",
    "    rowOut[players.index(p6) + len(players)] = -1\n",
    "    rowOut[players.index(p7) + len(players)] = -1\n",
    "    rowOut[players.index(p8) + len(players)] = -1\n",
    "    rowOut[players.index(p9) + len(players)] = -1\n",
    "    rowOut[players.index(p10) + len(players)] = -1\n",
    "\n",
    "    return rowOut\n"
   ]
  },
  {
   "cell_type": "code",
   "execution_count": 9,
   "metadata": {},
   "outputs": [
    {
     "name": "stderr",
     "output_type": "stream",
     "text": [
      "/usr/local/lib/python3.6/site-packages/ipykernel_launcher.py:24: FutureWarning: Method .as_matrix will be removed in a future version. Use .values instead.\n"
     ]
    }
   ],
   "source": [
    "sa_engine = create_engine(os.environ['NBA_CONNECT_DEV'])\n",
    "\n",
    "shifts_df = pd.read_sql_query(f'select * from nba.rapm_shifts where season = {season};', sa_engine)\n",
    "\n",
    "shifts_df = shifts_df[shifts_df.possessions != 0]\n",
    "shifts_df.to_csv('shifts.csv')\n",
    "\n",
    "# pull out unique player ids\n",
    "players = list(set(list(shifts_df['off_player_1_id'].unique()) +\n",
    "                   list(shifts_df['off_player_2_id'].unique()) +\n",
    "                   list(shifts_df['off_player_3_id'].unique()) +\n",
    "                   list(shifts_df['off_player_4_id'].unique()) +\n",
    "                   list(shifts_df['off_player_5_id'].unique()) +\n",
    "                   list(shifts_df['def_player_1_id'].unique()) +\n",
    "                   list(shifts_df['def_player_2_id'].unique()) +\n",
    "                   list(shifts_df['def_player_3_id'].unique()) +\n",
    "                   list(shifts_df['def_player_4_id'].unique()) +\n",
    "                   list(shifts_df['def_player_5_id'].unique())))\n",
    "\n",
    "players.sort()\n",
    "train_x = shifts_df.as_matrix(columns=['off_player_1_id', 'off_player_2_id',\n",
    "                                             'off_player_3_id', 'off_player_4_id', 'off_player_5_id',\n",
    "                                             'def_player_1_id', 'def_player_2_id',\n",
    "                                             'def_player_3_id', 'def_player_4_id', 'def_player_5_id'])\n",
    "\n",
    "train_x = np.apply_along_axis(map_players, 1, train_x, players)\n"
   ]
  },
  {
   "cell_type": "code",
   "execution_count": 17,
   "metadata": {},
   "outputs": [
    {
     "ename": "AttributeError",
     "evalue": "'numpy.ndarray' object has no attribute 'index'",
     "output_type": "error",
     "traceback": [
      "\u001b[0;31m---------------------------------------------------------------------------\u001b[0m",
      "\u001b[0;31mAttributeError\u001b[0m                            Traceback (most recent call last)",
      "\u001b[0;32m<ipython-input-17-595619e0dc56>\u001b[0m in \u001b[0;36m<module>\u001b[0;34m\u001b[0m\n\u001b[1;32m      1\u001b[0m \u001b[0mnp\u001b[0m\u001b[0;34m.\u001b[0m\u001b[0mset_printoptions\u001b[0m\u001b[0;34m(\u001b[0m\u001b[0mthreshold\u001b[0m\u001b[0;34m=\u001b[0m\u001b[0;36m2000\u001b[0m\u001b[0;34m)\u001b[0m\u001b[0;34m\u001b[0m\u001b[0m\n\u001b[0;32m----> 2\u001b[0;31m \u001b[0mprint\u001b[0m\u001b[0;34m(\u001b[0m\u001b[0;34m[\u001b[0m\u001b[0mtrain_x\u001b[0m\u001b[0;34m[\u001b[0m\u001b[0;36m0\u001b[0m\u001b[0;34m]\u001b[0m\u001b[0;34m.\u001b[0m\u001b[0mindex\u001b[0m\u001b[0;34m(\u001b[0m\u001b[0mx\u001b[0m\u001b[0;34m)\u001b[0m \u001b[0;32mfor\u001b[0m \u001b[0mx\u001b[0m \u001b[0;32min\u001b[0m \u001b[0mtrain_x\u001b[0m\u001b[0;34m[\u001b[0m\u001b[0;36m0\u001b[0m\u001b[0;34m]\u001b[0m \u001b[0;32mif\u001b[0m \u001b[0mx\u001b[0m \u001b[0;34m==\u001b[0m \u001b[0;34m-\u001b[0m\u001b[0;36m1\u001b[0m\u001b[0;34m]\u001b[0m\u001b[0;34m)\u001b[0m\u001b[0;34m\u001b[0m\u001b[0m\n\u001b[0m",
      "\u001b[0;32m<ipython-input-17-595619e0dc56>\u001b[0m in \u001b[0;36m<listcomp>\u001b[0;34m(.0)\u001b[0m\n\u001b[1;32m      1\u001b[0m \u001b[0mnp\u001b[0m\u001b[0;34m.\u001b[0m\u001b[0mset_printoptions\u001b[0m\u001b[0;34m(\u001b[0m\u001b[0mthreshold\u001b[0m\u001b[0;34m=\u001b[0m\u001b[0;36m2000\u001b[0m\u001b[0;34m)\u001b[0m\u001b[0;34m\u001b[0m\u001b[0m\n\u001b[0;32m----> 2\u001b[0;31m \u001b[0mprint\u001b[0m\u001b[0;34m(\u001b[0m\u001b[0;34m[\u001b[0m\u001b[0mtrain_x\u001b[0m\u001b[0;34m[\u001b[0m\u001b[0;36m0\u001b[0m\u001b[0;34m]\u001b[0m\u001b[0;34m.\u001b[0m\u001b[0mindex\u001b[0m\u001b[0;34m(\u001b[0m\u001b[0mx\u001b[0m\u001b[0;34m)\u001b[0m \u001b[0;32mfor\u001b[0m \u001b[0mx\u001b[0m \u001b[0;32min\u001b[0m \u001b[0mtrain_x\u001b[0m\u001b[0;34m[\u001b[0m\u001b[0;36m0\u001b[0m\u001b[0;34m]\u001b[0m \u001b[0;32mif\u001b[0m \u001b[0mx\u001b[0m \u001b[0;34m==\u001b[0m \u001b[0;34m-\u001b[0m\u001b[0;36m1\u001b[0m\u001b[0;34m]\u001b[0m\u001b[0;34m)\u001b[0m\u001b[0;34m\u001b[0m\u001b[0m\n\u001b[0m",
      "\u001b[0;31mAttributeError\u001b[0m: 'numpy.ndarray' object has no attribute 'index'"
     ]
    }
   ],
   "source": [
    "np.set_printoptions(threshold=2000)\n",
    "print([train_x[0].index(x) for x in train_x[0] if x == -1])"
   ]
  },
  {
   "cell_type": "code",
   "execution_count": 19,
   "metadata": {},
   "outputs": [
    {
     "data": {
      "text/plain": [
       "(array([ 32,  82,  89, 103, 301]),)"
      ]
     },
     "execution_count": 19,
     "metadata": {},
     "output_type": "execute_result"
    }
   ],
   "source": [
    "np.where(train_x[0] == 1)"
   ]
  },
  {
   "cell_type": "code",
   "execution_count": 20,
   "metadata": {},
   "outputs": [
    {
     "data": {
      "text/plain": [
       "away_team_id              1.61061e+09\n",
       "def_player_1           Draymond Green\n",
       "def_player_1_id                203110\n",
       "def_player_2            Stephen Curry\n",
       "def_player_2_id                201939\n",
       "def_player_3             Kevin Durant\n",
       "def_player_3_id                201142\n",
       "def_player_4            Klay Thompson\n",
       "def_player_4_id                202691\n",
       "def_player_5              Jordan Bell\n",
       "def_player_5_id            1.6284e+06\n",
       "game_date                  2017-10-17\n",
       "game_id                      2.17e+07\n",
       "home_team_id              1.61061e+09\n",
       "off_player_1             Trevor Ariza\n",
       "off_player_1_id                  2772\n",
       "off_player_2             Clint Capela\n",
       "off_player_2_id                203991\n",
       "off_player_3             James Harden\n",
       "off_player_3_id                201935\n",
       "off_player_4            Ryan Anderson\n",
       "off_player_4_id                201583\n",
       "off_player_5              Eric Gordon\n",
       "off_player_5_id                201569\n",
       "points_made                         0\n",
       "possessions                         1\n",
       "points_per_100_poss                 0\n",
       "season                           2018\n",
       "Name: 0, dtype: object"
      ]
     },
     "execution_count": 20,
     "metadata": {},
     "output_type": "execute_result"
    }
   ],
   "source": [
    "shifts_df.iloc[0, :]"
   ]
  },
  {
   "cell_type": "code",
   "execution_count": 54,
   "metadata": {},
   "outputs": [
    {
     "data": {
      "text/html": [
       "<div>\n",
       "<style scoped>\n",
       "    .dataframe tbody tr th:only-of-type {\n",
       "        vertical-align: middle;\n",
       "    }\n",
       "\n",
       "    .dataframe tbody tr th {\n",
       "        vertical-align: top;\n",
       "    }\n",
       "\n",
       "    .dataframe thead th {\n",
       "        text-align: right;\n",
       "    }\n",
       "</style>\n",
       "<table border=\"1\" class=\"dataframe\">\n",
       "  <thead>\n",
       "    <tr style=\"text-align: right;\">\n",
       "      <th></th>\n",
       "      <th>sum</th>\n",
       "    </tr>\n",
       "  </thead>\n",
       "  <tbody>\n",
       "    <tr>\n",
       "      <td>0</td>\n",
       "      <td>51665.0</td>\n",
       "    </tr>\n",
       "  </tbody>\n",
       "</table>\n",
       "</div>"
      ],
      "text/plain": [
       "       sum\n",
       "0  51665.0"
      ]
     },
     "execution_count": 54,
     "metadata": {},
     "output_type": "execute_result"
    }
   ],
   "source": [
    "query = '''\n",
    "    select sum(time_together) \n",
    "    from (\n",
    "    select sum(event_length) time_together from nba.pbp \n",
    "    where season = 2019 \n",
    "    and (home_player_1_id in (202331) or \n",
    "            home_player_2_id in (202331) or \n",
    "            home_player_3_id in (202331) or \n",
    "            home_player_4_id in (202331) or \n",
    "            home_player_5_id in (202331))\n",
    "    and (home_player_1_id not in (201566) and \n",
    "            home_player_2_id not in (201566) and\n",
    "            home_player_3_id not in (201566) and \n",
    "            home_player_4_id not in (201566) and \n",
    "            home_player_5_id not in (201566))\n",
    "    union all \n",
    "        select sum(event_length) time_together from nba.pbp \n",
    "    where season = 2019 \n",
    "    and (away_player_1_id in (202331) or \n",
    "            away_player_2_id in (202331) or \n",
    "            away_player_3_id in (202331) or \n",
    "            away_player_4_id in (202331) or \n",
    "            away_player_5_id in (202331))\n",
    "    and (away_player_1_id not in (201566) and \n",
    "            away_player_2_id not in (201566) and \n",
    "            away_player_3_id not in (201566) and \n",
    "            away_player_4_id not in (201566) and\n",
    "            away_player_5_id not in (201566))) tt\n",
    "'''\n",
    "pbp_df = pd.read_sql_query(query, engine)\n",
    "pbp_df\n",
    "\n"
   ]
  },
  {
   "cell_type": "code",
   "execution_count": null,
   "metadata": {},
   "outputs": [],
   "source": [
    "train_y = shifts_df.as_matrix(['points_made'])\n",
    "possessions = shifts_df['possessions']\n",
    "\n",
    "lambdas_rapm = [.01, .05, .1]\n",
    "alphas = [lambda_to_alpha(l, train_x.shape[0]) for l in lambdas_rapm]\n",
    "clf = RidgeCV(alphas=alphas, cv=5, fit_intercept=True, normalize=False)\n",
    "model = clf.fit(train_x, train_y, sample_weight=possessions)\n",
    "player_arr = np.transpose(np.array(players).reshape(1, len(players)))\n",
    "\n",
    "# extract our coefficients into the offensive and defensive parts\n",
    "coef_offensive_array = np.transpose(model.coef_[:, 0:len(players)])\n",
    "coef_defensive_array = np.transpose(model.coef_[:, len(players):])\n",
    "\n",
    "# concatenate the offensive and defensive values with the playey ids into a mx3 matrix\n",
    "player_id_with_coef = np.concatenate([player_arr, coef_offensive_array, coef_defensive_array], axis=1)\n",
    "# build a dataframe from our matrix\n",
    "players_coef = pd.DataFrame(player_id_with_coef)\n",
    "intercept = model.intercept_\n",
    "name = 'rapm'\n",
    "# apply new column names\n",
    "players_coef.columns = ['player_id', '{0}__Off'.format(name), '{0}__Def'.format(name)]\n",
    "\n",
    "print(f'This is the intercept of the model: {intercept}')\n",
    "print(players_coef.head())\n",
    "player_df = pd.read_sql_query(f'select * from nba.player_details;', sa_engine)\n",
    "\n",
    "results_df = players_coef.merge(player_df[['player_id', 'display_first_last']], on='player_id')\n",
    "results_df.to_csv('rapm_results.csv')\n"
   ]
  },
  {
   "cell_type": "code",
   "execution_count": null,
   "metadata": {},
   "outputs": [],
   "source": [
    "    and (away_player_1_id in (202331) or \n",
    "            away_player_2_id in (202331) or \n",
    "            away_player_3_id in (202331) or \n",
    "            away_player_4_id in (202331) or \n",
    "            away_player_5_id in (202331))\n",
    "    and (away_player_1_id not in (201566) or \n",
    "            away_player_2_id not in (201566) or \n",
    "            away_player_3_id not in (201566) or \n",
    "            away_player_4_id not in (201566) or \n",
    "            away_player_5_id not in (201566))) tt\n",
    "'''"
   ]
  }
 ],
 "metadata": {
  "hide_input": false,
  "kernelspec": {
   "display_name": "Python 3",
   "language": "python",
   "name": "python3"
  },
  "language_info": {
   "codemirror_mode": {
    "name": "ipython",
    "version": 3
   },
   "file_extension": ".py",
   "mimetype": "text/x-python",
   "name": "python",
   "nbconvert_exporter": "python",
   "pygments_lexer": "ipython3",
   "version": "3.6.5"
  }
 },
 "nbformat": 4,
 "nbformat_minor": 2
}
